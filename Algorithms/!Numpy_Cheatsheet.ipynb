{
  "nbformat": 4,
  "nbformat_minor": 0,
  "metadata": {
    "colab": {
      "name": "!Numpy Cheatsheet.ipynb",
      "provenance": []
    },
    "kernelspec": {
      "name": "python3",
      "display_name": "Python 3"
    },
    "language_info": {
      "name": "python"
    }
  },
  "cells": [
    {
      "cell_type": "markdown",
      "source": [
        "# Numpy Cheatsheet: Most Useful Functions and Methods"
      ],
      "metadata": {
        "id": "uZTV7C6QPHuh"
      }
    },
    {
      "cell_type": "markdown",
      "source": [
        "**What is NumPy?**\n",
        "\n",
        "Numpy (Numerical Python) is a python library works with n dimensional arrays. It has a set of functions in field of linear algebra, fourier transform or other mathmatical or logical operators.\n",
        "\n",
        "**Features**\n",
        "\n",
        "In python, we can easily handle array but that's a slow process. Numpy actually 50x faster than general array operations of python lists. The array is called here ndarray.\n",
        "\n",
        "**Advantages:**\n",
        "- Speed : As Numpy written algo in C, it performs in nanoseconds.\n",
        "- Provide Integration with other platforms.\n",
        "- It use less loops for faster computation.\n",
        "- Provides Broadcasting Function Since it has huge benefits, its one of the top - most used llibraries in Data science."
      ],
      "metadata": {
        "id": "zVxaFBImPNCE"
      }
    },
    {
      "cell_type": "markdown",
      "source": [
        "Importing Library"
      ],
      "metadata": {
        "id": "rJg4IfYbPd-8"
      }
    },
    {
      "cell_type": "code",
      "execution_count": 1,
      "metadata": {
        "id": "Uw2Hq5_1NkUM"
      },
      "outputs": [],
      "source": [
        "from numpy import *"
      ]
    },
    {
      "cell_type": "markdown",
      "source": [
        "Let us print an array to check it"
      ],
      "metadata": {
        "id": "xksETXG-PkFL"
      }
    },
    {
      "cell_type": "code",
      "source": [
        "import numpy as np\n",
        "array= np.array([3,2,1,2])\n",
        "print(array)"
      ],
      "metadata": {
        "colab": {
          "base_uri": "https://localhost:8080/"
        },
        "id": "G2CA0fvrPn3v",
        "outputId": "ba8bae44-f597-4dd1-a7d9-d211c939f67a"
      },
      "execution_count": 2,
      "outputs": [
        {
          "output_type": "stream",
          "name": "stdout",
          "text": [
            "[3 2 1 2]\n"
          ]
        }
      ]
    },
    {
      "cell_type": "markdown",
      "source": [
        "# **Creating numpy arrays**"
      ],
      "metadata": {
        "id": "XN8LxTr8Pq2g"
      }
    },
    {
      "cell_type": "markdown",
      "source": [
        "For example, to create new vector and matrix arrays from Python lists we can use the n.array function."
      ],
      "metadata": {
        "id": "R_bWJ3rLPtqM"
      }
    },
    {
      "cell_type": "code",
      "source": [
        "import numpy as np\n",
        "# Creating a rank 3 Array\n",
        "\n",
        "ar1 = np.array([[4, 2, 9],\n",
        "                [9, 4, 1],\n",
        "               [1,0,9]])\n",
        "print(\"Rank 3 array: \\n\", ar1)\n",
        " \n",
        "# Creating an array using tuple\n",
        "\n",
        "ar2 = np.array((8, 1, 2))\n",
        "print(\"\\nArray created using tuple:\\n\", ar2)\n",
        "\n",
        "#Checking their type:\n",
        "print(\"first array type\",type(ar1))\n",
        "print(\"first array type\",type(ar2))"
      ],
      "metadata": {
        "colab": {
          "base_uri": "https://localhost:8080/"
        },
        "id": "2DBOiaAfPzbw",
        "outputId": "38f9ab65-3954-4cb2-c71c-110ddb26e6b5"
      },
      "execution_count": 3,
      "outputs": [
        {
          "output_type": "stream",
          "name": "stdout",
          "text": [
            "Rank 3 array: \n",
            " [[4 2 9]\n",
            " [9 4 1]\n",
            " [1 0 9]]\n",
            "\n",
            "Array created using tuple:\n",
            " [8 1 2]\n",
            "first array type <class 'numpy.ndarray'>\n",
            "first array type <class 'numpy.ndarray'>\n"
          ]
        }
      ]
    },
    {
      "cell_type": "markdown",
      "source": [
        "# **Basic Array features**"
      ],
      "metadata": {
        "id": "cc1_1JFIP2Sj"
      }
    },
    {
      "cell_type": "markdown",
      "source": [
        "A. Checking shape"
      ],
      "metadata": {
        "id": "6_ZeV6ZCP7NZ"
      }
    },
    {
      "cell_type": "code",
      "source": [
        "import numpy as np\n",
        "# Creating a rank 3 Array\n",
        "\n",
        "ar1 = np.array([[4, 2, 9],\n",
        "                [9, 4, 1],\n",
        "               [1,0,9]])\n",
        "ar1.shape"
      ],
      "metadata": {
        "colab": {
          "base_uri": "https://localhost:8080/"
        },
        "id": "d7051xQSP-Sj",
        "outputId": "6c32c48e-301d-462f-80f0-c26f4bb3c5ee"
      },
      "execution_count": 4,
      "outputs": [
        {
          "output_type": "execute_result",
          "data": {
            "text/plain": [
              "(3, 3)"
            ]
          },
          "metadata": {},
          "execution_count": 4
        }
      ]
    },
    {
      "cell_type": "markdown",
      "source": [
        "B. Checking size\n",
        "\n",
        "   The number of elements in the array is available"
      ],
      "metadata": {
        "id": "XLCQiem4QBHM"
      }
    },
    {
      "cell_type": "code",
      "source": [
        "ar1.size"
      ],
      "metadata": {
        "colab": {
          "base_uri": "https://localhost:8080/"
        },
        "id": "eRW7hKINQGe7",
        "outputId": "f5e465b3-be3f-4c35-d45a-3839dbd4900d"
      },
      "execution_count": 5,
      "outputs": [
        {
          "output_type": "execute_result",
          "data": {
            "text/plain": [
              "9"
            ]
          },
          "metadata": {},
          "execution_count": 5
        }
      ]
    },
    {
      "cell_type": "markdown",
      "source": [
        "C. Property check\n",
        "\n",
        "Using the dtype"
      ],
      "metadata": {
        "id": "OsxGEf_5QKDs"
      }
    },
    {
      "cell_type": "code",
      "source": [
        "ar1.dtype"
      ],
      "metadata": {
        "colab": {
          "base_uri": "https://localhost:8080/"
        },
        "id": "Q8COglcSQMp_",
        "outputId": "1542531d-d115-4c91-97af-86b67a3924d4"
      },
      "execution_count": 6,
      "outputs": [
        {
          "output_type": "execute_result",
          "data": {
            "text/plain": [
              "dtype('int64')"
            ]
          },
          "metadata": {},
          "execution_count": 6
        }
      ]
    },
    {
      "cell_type": "markdown",
      "source": [
        "D. Defining type of array data explicitly"
      ],
      "metadata": {
        "id": "RZuEfdPFQPqb"
      }
    },
    {
      "cell_type": "code",
      "source": [
        "ar2 = np.array([[1, 4], [2, 3]], dtype=complex)\n",
        "\n",
        "ar2"
      ],
      "metadata": {
        "colab": {
          "base_uri": "https://localhost:8080/"
        },
        "id": "OHm8RfG_QTHW",
        "outputId": "8de0904d-a9a8-4f93-ecf6-f4d282ff0247"
      },
      "execution_count": 7,
      "outputs": [
        {
          "output_type": "execute_result",
          "data": {
            "text/plain": [
              "array([[1.+0.j, 4.+0.j],\n",
              "       [2.+0.j, 3.+0.j]])"
            ]
          },
          "metadata": {},
          "execution_count": 7
        }
      ]
    },
    {
      "cell_type": "markdown",
      "source": [
        "# Different type array generations\n",
        "To generate larger array we can use functions to generate array in different forms"
      ],
      "metadata": {
        "id": "d1NJqTRkQVyK"
      }
    },
    {
      "cell_type": "markdown",
      "source": [
        "A. \"arange\" function\n",
        "\n",
        "arange() is one of the array creation way for providing an instance of evenly spaced values."
      ],
      "metadata": {
        "id": "xF5sH4W3QanI"
      }
    },
    {
      "cell_type": "code",
      "source": [
        "# create a range of odd numbers array\n",
        "\n",
        "#It will create a list of 1- 10 after every 2 step\n",
        "ar1 = np.arange(1, 10, 2) \n",
        "ar1"
      ],
      "metadata": {
        "colab": {
          "base_uri": "https://localhost:8080/"
        },
        "id": "acD-tftuQc8_",
        "outputId": "f20fc774-0543-4ad7-e654-59a6f3ddbdaa"
      },
      "execution_count": 8,
      "outputs": [
        {
          "output_type": "execute_result",
          "data": {
            "text/plain": [
              "array([1, 3, 5, 7, 9])"
            ]
          },
          "metadata": {},
          "execution_count": 8
        }
      ]
    },
    {
      "cell_type": "markdown",
      "source": [
        "B. linspace and logspace\n",
        "\n",
        "Linespace is for evenly spaced smaples and Logscale is same but using log for generating floating number array instead of arrange"
      ],
      "metadata": {
        "id": "GYCf-S-oQiO5"
      }
    },
    {
      "cell_type": "code",
      "source": [
        "# using linspace, both end points ARE included\n",
        "import numpy as np\n",
        "print(np.linspace(0, 10, 4))\n"
      ],
      "metadata": {
        "colab": {
          "base_uri": "https://localhost:8080/"
        },
        "id": "Uwbrz4JnQhxu",
        "outputId": "5280a9d1-2a09-4403-c455-793e72b65e43"
      },
      "execution_count": 9,
      "outputs": [
        {
          "output_type": "stream",
          "name": "stdout",
          "text": [
            "[ 0.          3.33333333  6.66666667 10.        ]\n"
          ]
        }
      ]
    },
    {
      "cell_type": "code",
      "source": [
        "import numpy as np\n",
        "print(np.logspace(0, 10, 10, base=2.0))"
      ],
      "metadata": {
        "colab": {
          "base_uri": "https://localhost:8080/"
        },
        "id": "h2v545yNQzg5",
        "outputId": "c9f19bf1-83ee-4888-ed5f-23f230585492"
      },
      "execution_count": 10,
      "outputs": [
        {
          "output_type": "stream",
          "name": "stdout",
          "text": [
            "[1.00000000e+00 2.16011948e+00 4.66611616e+00 1.00793684e+01\n",
            " 2.17726400e+01 4.70315038e+01 1.01593667e+02 2.19454460e+02\n",
            " 4.74047853e+02 1.02400000e+03]\n"
          ]
        }
      ]
    },
    {
      "cell_type": "markdown",
      "source": [
        "C. mgrid\n",
        "\n",
        "To get a dense multi-dimensional 'meshgrid'."
      ],
      "metadata": {
        "id": "g_F6D89YQwTM"
      }
    },
    {
      "cell_type": "code",
      "source": [
        "x, y = np.mgrid[0:3, 0:3] \n",
        "print(x)\n",
        "print(\"\\n\")\n",
        "print(y)"
      ],
      "metadata": {
        "colab": {
          "base_uri": "https://localhost:8080/"
        },
        "id": "rfCfcI6rQ5nK",
        "outputId": "8be2946c-8670-4d33-d4c0-26081a6600b2"
      },
      "execution_count": 11,
      "outputs": [
        {
          "output_type": "stream",
          "name": "stdout",
          "text": [
            "[[0 0 0]\n",
            " [1 1 1]\n",
            " [2 2 2]]\n",
            "\n",
            "\n",
            "[[0 1 2]\n",
            " [0 1 2]\n",
            " [0 1 2]]\n"
          ]
        }
      ]
    },
    {
      "cell_type": "markdown",
      "source": [
        "D. Random Data Generation\n",
        "\n",
        "rand() method returns a random float between 0 and 1 using uniform distribution. randn() method returns a random float between 0 and 1 using normalized distribution."
      ],
      "metadata": {
        "id": "ZVe8xxnQQ86p"
      }
    },
    {
      "cell_type": "code",
      "source": [
        "import numpy as np\n",
        "print(\"uniform random numbers\")\n",
        "np.random.rand(3,3)"
      ],
      "metadata": {
        "colab": {
          "base_uri": "https://localhost:8080/"
        },
        "id": "eBAnPdZGQ_E6",
        "outputId": "1e0f53ac-84bc-40fa-b0b9-d787381ce9a8"
      },
      "execution_count": 12,
      "outputs": [
        {
          "output_type": "stream",
          "name": "stdout",
          "text": [
            "uniform random numbers\n"
          ]
        },
        {
          "output_type": "execute_result",
          "data": {
            "text/plain": [
              "array([[0.252478  , 0.2401209 , 0.06459283],\n",
              "       [0.2477431 , 0.8899464 , 0.79495883],\n",
              "       [0.17508457, 0.16208982, 0.3296365 ]])"
            ]
          },
          "metadata": {},
          "execution_count": 12
        }
      ]
    },
    {
      "cell_type": "code",
      "source": [
        "print(\"\\n\")\n",
        "print(\"standard normal distributed random numbers\")\n",
        "np.random.randn(3,3)"
      ],
      "metadata": {
        "colab": {
          "base_uri": "https://localhost:8080/"
        },
        "id": "_Y0DwH9WRBmU",
        "outputId": "e36eba33-7b97-491d-e782-708adeebfa48"
      },
      "execution_count": 13,
      "outputs": [
        {
          "output_type": "stream",
          "name": "stdout",
          "text": [
            "\n",
            "\n",
            "standard normal distributed random numbers\n"
          ]
        },
        {
          "output_type": "execute_result",
          "data": {
            "text/plain": [
              "array([[-0.41209916, -0.01133447, -1.60184322],\n",
              "       [ 0.86702532, -0.69149417,  0.6617065 ],\n",
              "       [ 0.05751781,  1.16627817, -0.09824311]])"
            ]
          },
          "metadata": {},
          "execution_count": 13
        }
      ]
    },
    {
      "cell_type": "markdown",
      "source": [
        "E. Diagonal array"
      ],
      "metadata": {
        "id": "PaPKVeR7REXQ"
      }
    },
    {
      "cell_type": "code",
      "source": [
        "# a diagonal matrix\n",
        "np.diag([1,3,5])"
      ],
      "metadata": {
        "colab": {
          "base_uri": "https://localhost:8080/"
        },
        "id": "kPfzA2r1RG9l",
        "outputId": "eacdf7fb-d857-444d-b928-3b4047a1f774"
      },
      "execution_count": 14,
      "outputs": [
        {
          "output_type": "execute_result",
          "data": {
            "text/plain": [
              "array([[1, 0, 0],\n",
              "       [0, 3, 0],\n",
              "       [0, 0, 5]])"
            ]
          },
          "metadata": {},
          "execution_count": 14
        }
      ]
    },
    {
      "cell_type": "markdown",
      "source": [
        "F. FormFunction:\n",
        "\n",
        "We can use np.romfunction to design array"
      ],
      "metadata": {
        "id": "thYqo6uIRPYs"
      }
    },
    {
      "cell_type": "code",
      "source": [
        "np.fromfunction(lambda i, j: i + j, (3, 3), dtype=int)"
      ],
      "metadata": {
        "colab": {
          "base_uri": "https://localhost:8080/"
        },
        "id": "9RHdD9PWRRYO",
        "outputId": "0fa17a35-84d0-419d-ff27-0dfa4c264967"
      },
      "execution_count": 15,
      "outputs": [
        {
          "output_type": "execute_result",
          "data": {
            "text/plain": [
              "array([[0, 1, 2],\n",
              "       [1, 2, 3],\n",
              "       [2, 3, 4]])"
            ]
          },
          "metadata": {},
          "execution_count": 15
        }
      ]
    },
    {
      "cell_type": "markdown",
      "source": [
        "G. Zeroes and Ones\n",
        "\n",
        "np.zeros  Python function is used to create a matrix full of zeroes.\n",
        "\n",
        "`np.ones()function is used to create a matrix full of ones."
      ],
      "metadata": {
        "id": "cDTEZhOqRYEL"
      }
    },
    {
      "cell_type": "code",
      "source": [
        "import numpy as np\n",
        "np.zeros((3,3))"
      ],
      "metadata": {
        "colab": {
          "base_uri": "https://localhost:8080/"
        },
        "id": "XVPtnjO9RUDw",
        "outputId": "1151721b-a77d-4dc8-8bfd-b8c39560e33d"
      },
      "execution_count": 16,
      "outputs": [
        {
          "output_type": "execute_result",
          "data": {
            "text/plain": [
              "array([[0., 0., 0.],\n",
              "       [0., 0., 0.],\n",
              "       [0., 0., 0.]])"
            ]
          },
          "metadata": {},
          "execution_count": 16
        }
      ]
    },
    {
      "cell_type": "code",
      "source": [
        "np.ones((3,3))"
      ],
      "metadata": {
        "colab": {
          "base_uri": "https://localhost:8080/"
        },
        "id": "mtyOQmYJRWjQ",
        "outputId": "b6f9c67a-b0f3-47f3-c1e0-7942d9309dd5"
      },
      "execution_count": 17,
      "outputs": [
        {
          "output_type": "execute_result",
          "data": {
            "text/plain": [
              "array([[1., 1., 1.],\n",
              "       [1., 1., 1.],\n",
              "       [1., 1., 1.]])"
            ]
          },
          "metadata": {},
          "execution_count": 17
        }
      ]
    },
    {
      "cell_type": "markdown",
      "source": [
        "H.Full shaped array"
      ],
      "metadata": {
        "id": "2WBwL6iSRdv1"
      }
    },
    {
      "cell_type": "code",
      "source": [
        "np.full((5,2), np.pi)"
      ],
      "metadata": {
        "colab": {
          "base_uri": "https://localhost:8080/"
        },
        "id": "Rrl0Lu4uRiP0",
        "outputId": "21acdef4-f53e-4439-a523-9deaaf1aea53"
      },
      "execution_count": 18,
      "outputs": [
        {
          "output_type": "execute_result",
          "data": {
            "text/plain": [
              "array([[3.14159265, 3.14159265],\n",
              "       [3.14159265, 3.14159265],\n",
              "       [3.14159265, 3.14159265],\n",
              "       [3.14159265, 3.14159265],\n",
              "       [3.14159265, 3.14159265]])"
            ]
          },
          "metadata": {},
          "execution_count": 18
        }
      ]
    },
    {
      "cell_type": "markdown",
      "source": [
        "File Input/Output\n",
        "Saving and Loading in disk"
      ],
      "metadata": {
        "id": "kMs97uEZRo8P"
      }
    },
    {
      "cell_type": "code",
      "source": [
        "a = np.array([1,2,3])\n",
        "b = np.array([(1.5,2,3), (14,2,6)], dtype = float)\n",
        "np.save('my_array', a)\n",
        "np.savez('array.npz', a, b)"
      ],
      "metadata": {
        "id": "g1LIPmY6RkwH"
      },
      "execution_count": 19,
      "outputs": []
    },
    {
      "cell_type": "markdown",
      "source": [
        "# Array Data Analysis"
      ],
      "metadata": {
        "id": "kGMb9I-5RuQS"
      }
    },
    {
      "cell_type": "markdown",
      "source": [
        "Itemsize()\n",
        "\n",
        "The itemsize attribute returns the size of item:"
      ],
      "metadata": {
        "id": "52Wv4J5IRyZu"
      }
    },
    {
      "cell_type": "code",
      "source": [
        "ar1 = np.arange(1, 5, dtype=np.int64)\n",
        "ar1.itemsize"
      ],
      "metadata": {
        "colab": {
          "base_uri": "https://localhost:8080/"
        },
        "id": "uznqS-C6R4Mn",
        "outputId": "98d141d5-b608-477d-b424-b482a3a55d68"
      },
      "execution_count": 20,
      "outputs": [
        {
          "output_type": "execute_result",
          "data": {
            "text/plain": [
              "8"
            ]
          },
          "metadata": {},
          "execution_count": 20
        }
      ]
    },
    {
      "cell_type": "markdown",
      "source": [
        "Byte Function\n",
        "\n",
        "number of bytes"
      ],
      "metadata": {
        "id": "0vrbShuTR6n0"
      }
    },
    {
      "cell_type": "code",
      "source": [
        "ar1.nbytes "
      ],
      "metadata": {
        "colab": {
          "base_uri": "https://localhost:8080/"
        },
        "id": "N7V6V0BjR8qk",
        "outputId": "b8be5104-8149-4255-8df8-fa98f8ed779e"
      },
      "execution_count": 21,
      "outputs": [
        {
          "output_type": "execute_result",
          "data": {
            "text/plain": [
              "32"
            ]
          },
          "metadata": {},
          "execution_count": 21
        }
      ]
    },
    {
      "cell_type": "markdown",
      "source": [
        "Dim() function\n",
        "\n",
        "number of dimensions"
      ],
      "metadata": {
        "id": "gpRbNfeYR_tH"
      }
    },
    {
      "cell_type": "code",
      "source": [
        "ar1.ndim "
      ],
      "metadata": {
        "colab": {
          "base_uri": "https://localhost:8080/"
        },
        "id": "20l36qLLSBo4",
        "outputId": "6fc626f1-33a4-4fa6-8a35-91b15a27ebb0"
      },
      "execution_count": 22,
      "outputs": [
        {
          "output_type": "execute_result",
          "data": {
            "text/plain": [
              "1"
            ]
          },
          "metadata": {},
          "execution_count": 22
        }
      ]
    },
    {
      "cell_type": "markdown",
      "source": [
        "# Manipulation of Array"
      ],
      "metadata": {
        "id": "xl8M6QXrSERS"
      }
    },
    {
      "cell_type": "markdown",
      "source": [
        "Indexing\n",
        "indexing elements using indices or brackets"
      ],
      "metadata": {
        "id": "tnh-oolKSjsK"
      }
    },
    {
      "cell_type": "code",
      "source": [
        "import numpy as np\n",
        "\n",
        "arr = np.array([1, 2, 3, 4])\n",
        "\n",
        "print(arr[1])"
      ],
      "metadata": {
        "colab": {
          "base_uri": "https://localhost:8080/"
        },
        "id": "8fvYzr4gShS0",
        "outputId": "32d14c81-989d-49ca-a203-d1f7c26af8fa"
      },
      "execution_count": 23,
      "outputs": [
        {
          "output_type": "stream",
          "name": "stdout",
          "text": [
            "2\n"
          ]
        }
      ]
    },
    {
      "cell_type": "markdown",
      "source": [
        "Index slicing\n",
        "To extract a part of array"
      ],
      "metadata": {
        "id": "126lQhnKSmH1"
      }
    },
    {
      "cell_type": "code",
      "source": [
        "import numpy as np\n",
        "\n",
        "arr = np.array([1, 2, 3, 4, 5])\n",
        "\n",
        "print(arr[1:3])"
      ],
      "metadata": {
        "colab": {
          "base_uri": "https://localhost:8080/"
        },
        "id": "m-IyDR2OSpgM",
        "outputId": "c989d3d5-4b5a-409a-ec80-c28ce2c7e6af"
      },
      "execution_count": 24,
      "outputs": [
        {
          "output_type": "stream",
          "name": "stdout",
          "text": [
            "[2 3]\n"
          ]
        }
      ]
    },
    {
      "cell_type": "code",
      "source": [
        "import numpy as np\n",
        "\n",
        "arr = np.array([1, 2, 3, 4, 5])\n",
        "print(arr[-1])"
      ],
      "metadata": {
        "colab": {
          "base_uri": "https://localhost:8080/"
        },
        "id": "42km3DfDSvTh",
        "outputId": "bdeb8e86-5292-4e66-b64d-fc296bc072bf"
      },
      "execution_count": 25,
      "outputs": [
        {
          "output_type": "stream",
          "name": "stdout",
          "text": [
            "5\n"
          ]
        }
      ]
    },
    {
      "cell_type": "markdown",
      "source": [
        "Fancy Indexing\n",
        "\n",
        "creating list of indexing\n",
        "\n"
      ],
      "metadata": {
        "id": "W7ITKmliSsJQ"
      }
    },
    {
      "cell_type": "code",
      "source": [
        "import numpy as np\n",
        "b = np.arange(48).reshape(4, 12)\n",
        "b[(0,2), 2:4] "
      ],
      "metadata": {
        "colab": {
          "base_uri": "https://localhost:8080/"
        },
        "id": "xewhaDv7SyfC",
        "outputId": "ff5130fa-7cc2-4fef-ca47-bce05ee4c246"
      },
      "execution_count": 26,
      "outputs": [
        {
          "output_type": "execute_result",
          "data": {
            "text/plain": [
              "array([[ 2,  3],\n",
              "       [26, 27]])"
            ]
          },
          "metadata": {},
          "execution_count": 26
        }
      ]
    },
    {
      "cell_type": "markdown",
      "source": [
        "Reshaping Array\n",
        "\n",
        "Creating 1D to 2D array"
      ],
      "metadata": {
        "id": "EM2cnHawS2tB"
      }
    },
    {
      "cell_type": "code",
      "source": [
        "import numpy as np\n",
        "\n",
        "ar1 = np.array([1, 2, 3, 4, 5, 6, 7, 8, 9])\n",
        "\n",
        "new_ar1= ar1.reshape(3,3)\n",
        "\n",
        "print(new_ar1)"
      ],
      "metadata": {
        "colab": {
          "base_uri": "https://localhost:8080/"
        },
        "id": "8b7FUZkSS3tx",
        "outputId": "25ac9235-82d8-4b0b-c629-e75648866d31"
      },
      "execution_count": 27,
      "outputs": [
        {
          "output_type": "stream",
          "name": "stdout",
          "text": [
            "[[1 2 3]\n",
            " [4 5 6]\n",
            " [7 8 9]]\n"
          ]
        }
      ]
    },
    {
      "cell_type": "markdown",
      "source": [
        "Flattening array"
      ],
      "metadata": {
        "id": "TF_xx3qWS8C5"
      }
    },
    {
      "cell_type": "code",
      "source": [
        "b = ar1.flatten()\n",
        "c = ar1.ravel()\n",
        "print('Original shape :', ar1.shape)\n",
        "print('Array :','\\n', ar1)\n",
        "print('Shape after flatten :',b.shape)\n",
        "print('Array :','\\n', b)\n",
        "print('Shape after ravel :',c.shape)\n",
        "print('Array :','\\n', c)"
      ],
      "metadata": {
        "colab": {
          "base_uri": "https://localhost:8080/"
        },
        "id": "NzTcl9CQS-Ch",
        "outputId": "49e2402f-78e5-4b55-fab2-81ad3bb10a27"
      },
      "execution_count": 28,
      "outputs": [
        {
          "output_type": "stream",
          "name": "stdout",
          "text": [
            "Original shape : (9,)\n",
            "Array : \n",
            " [1 2 3 4 5 6 7 8 9]\n",
            "Shape after flatten : (9,)\n",
            "Array : \n",
            " [1 2 3 4 5 6 7 8 9]\n",
            "Shape after ravel : (9,)\n",
            "Array : \n",
            " [1 2 3 4 5 6 7 8 9]\n"
          ]
        }
      ]
    },
    {
      "cell_type": "markdown",
      "source": [
        "**Arithmetic operation**"
      ],
      "metadata": {
        "id": "0ASihtxUTAd6"
      }
    },
    {
      "cell_type": "code",
      "source": [
        "import numpy as np\n",
        "\n",
        "a1 = np.array([1, 2, -2, -13, 14, 5])\n",
        "a2 = np.array([2, 1, 22, 3, 4, 5])\n",
        "\n",
        "#addition\n",
        "\n",
        "newarr = np.add(a1, a2)\n",
        "\n",
        "print(\"addition:\",newarr)\n",
        "\n",
        "#Subtraction\n",
        "newarr = np.subtract(a1, a2)\n",
        "\n",
        "print(\"subtraction:\",newarr)\n",
        "\n",
        "#multiplication\n",
        "\n",
        "newarr = np.multiply(a1, a2)\n",
        "print(\"multiplication:\",newarr)\n",
        "\n",
        "#division\n",
        "\n",
        "newarr = np.divide(a1, a2)\n",
        "\n",
        "print(\"division:\",newarr)\n",
        "\n",
        "#power\n",
        "\n",
        "newarr = np.power(a1, a2)\n",
        "\n",
        "print(\"power:\",newarr)\n",
        "\n",
        "#remainder\n",
        "newarr = np.mod(a1, a2)\n",
        "\n",
        "print(\"remainder:\",newarr)\n",
        "\n",
        "\n",
        "#absolute value\n",
        "newarr = np.absolute(a1)\n",
        "print(\"absolute value :\",newarr)"
      ],
      "metadata": {
        "colab": {
          "base_uri": "https://localhost:8080/"
        },
        "id": "WzgixgTNTFvx",
        "outputId": "e390b54c-d44d-459f-bebf-f1515b85c3e5"
      },
      "execution_count": 29,
      "outputs": [
        {
          "output_type": "stream",
          "name": "stdout",
          "text": [
            "addition: [  3   3  20 -10  18  10]\n",
            "subtraction: [ -1   1 -24 -16  10   0]\n",
            "multiplication: [  2   2 -44 -39  56  25]\n",
            "division: [ 0.5         2.         -0.09090909 -4.33333333  3.5         1.        ]\n",
            "power: [      1       2 4194304   -2197   38416    3125]\n",
            "remainder: [ 1  0 20  2  2  0]\n",
            "absolute value : [ 1  2  2 13 14  5]\n"
          ]
        }
      ]
    },
    {
      "cell_type": "markdown",
      "source": [
        "Comparison\n",
        "\n",
        "The conditional operators can be also implied as elementwise or arraywise"
      ],
      "metadata": {
        "id": "q1_oksYHTKcN"
      }
    },
    {
      "cell_type": "code",
      "source": [
        "#elementwise\n",
        "import numpy as np\n",
        "a1 = np.array([10, -5, 30, 40])\n",
        "a1< [15, 16, 2, 36]\n",
        "a2=np.array([1,2,3,4])\n",
        "\n",
        "#arraywise\n",
        "\n",
        "np.array_equal(a1, a2) "
      ],
      "metadata": {
        "colab": {
          "base_uri": "https://localhost:8080/"
        },
        "id": "F2hNxYBHTTrl",
        "outputId": "49df8209-2104-47a2-c2b8-f131e3da2f70"
      },
      "execution_count": 30,
      "outputs": [
        {
          "output_type": "execute_result",
          "data": {
            "text/plain": [
              "False"
            ]
          },
          "metadata": {},
          "execution_count": 30
        }
      ]
    },
    {
      "cell_type": "markdown",
      "source": [
        "Array Expand or Shrink\n",
        "\n",
        "expand_dims() and squeeze() are used to array manipuate"
      ],
      "metadata": {
        "id": "ZNieMIVJTPcj"
      }
    },
    {
      "cell_type": "code",
      "source": [
        "#Expand\n",
        "b = np.expand_dims(ar1,axis=0)\n",
        "c = np.expand_dims(ar1,axis=1)\n",
        "print('Expand along columns:','Shape',b.shape,'\\n',b)\n",
        "print('Expand along rows:','Shape',c.shape,'\\n',c)\n",
        "\n",
        "#Shrink\n",
        "ar2 = np.array([[[3,4,5],\n",
        "[1,9,5]]])\n",
        "print('Original','Shape',ar2.shape,'\\n',ar2)\n",
        "b = np.squeeze(ar2, axis=0)\n",
        "\n",
        "print('Squeeze array:','Shape',b.shape,'\\n',b)"
      ],
      "metadata": {
        "colab": {
          "base_uri": "https://localhost:8080/"
        },
        "id": "GYn9UhBKTYXp",
        "outputId": "062f49db-1f19-4247-96f6-34bd559c0300"
      },
      "execution_count": 31,
      "outputs": [
        {
          "output_type": "stream",
          "name": "stdout",
          "text": [
            "Expand along columns: Shape (1, 9) \n",
            " [[1 2 3 4 5 6 7 8 9]]\n",
            "Expand along rows: Shape (9, 1) \n",
            " [[1]\n",
            " [2]\n",
            " [3]\n",
            " [4]\n",
            " [5]\n",
            " [6]\n",
            " [7]\n",
            " [8]\n",
            " [9]]\n",
            "Original Shape (1, 2, 3) \n",
            " [[[3 4 5]\n",
            "  [1 9 5]]]\n",
            "Squeeze array: Shape (2, 3) \n",
            " [[3 4 5]\n",
            " [1 9 5]]\n"
          ]
        }
      ]
    },
    {
      "cell_type": "markdown",
      "source": [
        "**Linear Algebra**\n",
        "\n",
        "Vectorizing code is in terms of matrix and vector operations, like matrix-matrix multiplication.\n",
        "\n",
        "**Scalar-array operations**\n",
        "\n",
        "Usual arithmetic operations can be done."
      ],
      "metadata": {
        "id": "emWyDqESTbR5"
      }
    },
    {
      "cell_type": "code",
      "source": [
        "import numpy as np\n",
        "ar1 = np.arange(0, 5)\n",
        "#multilplication\n",
        "print(ar1 * 2)\n",
        "\n",
        "#addition\n",
        "print(ar1+2)\n",
        "\n",
        "#extra calculation\n",
        "print(ar1* 2, ar1- 2)"
      ],
      "metadata": {
        "colab": {
          "base_uri": "https://localhost:8080/"
        },
        "id": "GmmigPkmTh3q",
        "outputId": "96bfc80b-b527-44d7-fdf2-4ff4ccc67bda"
      },
      "execution_count": 32,
      "outputs": [
        {
          "output_type": "stream",
          "name": "stdout",
          "text": [
            "[0 2 4 6 8]\n",
            "[2 3 4 5 6]\n",
            "[0 2 4 6 8] [-2 -1  0  1  2]\n"
          ]
        }
      ]
    },
    {
      "cell_type": "markdown",
      "source": [
        "Matrix Arithmetic\n",
        "\n",
        "Solving matrix multiplication using dot"
      ],
      "metadata": {
        "id": "oKtQQCEHTntl"
      }
    },
    {
      "cell_type": "code",
      "source": [
        "np.dot(ar1, ar1)"
      ],
      "metadata": {
        "colab": {
          "base_uri": "https://localhost:8080/"
        },
        "id": "sfCgUzOVTlKP",
        "outputId": "b5faa95c-eb88-4b87-d419-c114f6e556c7"
      },
      "execution_count": 33,
      "outputs": [
        {
          "output_type": "execute_result",
          "data": {
            "text/plain": [
              "30"
            ]
          },
          "metadata": {},
          "execution_count": 33
        }
      ]
    },
    {
      "cell_type": "markdown",
      "source": [
        "Matrix transformations\n",
        "\n",
        "Using Transpose function to transpose matrix"
      ],
      "metadata": {
        "id": "iRaSSPv0TsqA"
      }
    },
    {
      "cell_type": "code",
      "source": [
        "import numpy as np\n",
        "x1 = np.arange(12).reshape(3,4)\n",
        "print(x1)\n",
        "x2= x1.T \n",
        "#transposing matrix\n",
        "print(\"transposed matrix \\n\",x2)"
      ],
      "metadata": {
        "colab": {
          "base_uri": "https://localhost:8080/"
        },
        "id": "KeazSCACTvb-",
        "outputId": "53f5a984-3286-4df4-a698-001e6fa59f19"
      },
      "execution_count": 34,
      "outputs": [
        {
          "output_type": "stream",
          "name": "stdout",
          "text": [
            "[[ 0  1  2  3]\n",
            " [ 4  5  6  7]\n",
            " [ 8  9 10 11]]\n",
            "transposed matrix \n",
            " [[ 0  4  8]\n",
            " [ 1  5  9]\n",
            " [ 2  6 10]\n",
            " [ 3  7 11]]\n"
          ]
        }
      ]
    },
    {
      "cell_type": "markdown",
      "source": [
        "# Matrix Computations"
      ],
      "metadata": {
        "id": "JEq3wdUfT_HU"
      }
    },
    {
      "cell_type": "markdown",
      "source": [
        "Inverse\n",
        "\n",
        "To compute a square matrix's inverse"
      ],
      "metadata": {
        "id": "jW51jzTvTyIv"
      }
    },
    {
      "cell_type": "code",
      "source": [
        "import numpy as np\n",
        "x1= np.array([[2, 3, 4, 5],\n",
        "              [1, -2, 2, 2],\n",
        "              [-5, -9, 4, 5],\n",
        "              [4, 3, 1, 2]])\n",
        "print(\"Inverse matrix\", np.linalg.inv(x1))"
      ],
      "metadata": {
        "colab": {
          "base_uri": "https://localhost:8080/"
        },
        "id": "8fsr4IM8T-lP",
        "outputId": "3e280a60-4a7f-466c-ebe7-5f3f29312060"
      },
      "execution_count": 35,
      "outputs": [
        {
          "output_type": "stream",
          "name": "stdout",
          "text": [
            "Inverse matrix [[-0.14285714  0.28571429 -0.04761905  0.19047619]\n",
            " [ 0.16666667 -0.16666667 -0.05555556 -0.11111111]\n",
            " [ 0.4047619   1.02380952 -0.42063492 -0.98412698]\n",
            " [-0.16666667 -0.83333333  0.38888889  0.77777778]]\n"
          ]
        }
      ]
    },
    {
      "cell_type": "markdown",
      "source": [
        "Determinant\n",
        "\n",
        "The det function computes the matrix determinant:"
      ],
      "metadata": {
        "id": "IJcSRDyIUEvu"
      }
    },
    {
      "cell_type": "code",
      "source": [
        "print(\"Determinant of x1\",np.linalg.det(x1))"
      ],
      "metadata": {
        "colab": {
          "base_uri": "https://localhost:8080/"
        },
        "id": "wQ59inV5UHE_",
        "outputId": "55e14ec2-c4f6-4b27-bece-e6c8a64af03e"
      },
      "execution_count": 36,
      "outputs": [
        {
          "output_type": "stream",
          "name": "stdout",
          "text": [
            "Determinant of x1 -125.99999999999989\n"
          ]
        }
      ]
    },
    {
      "cell_type": "markdown",
      "source": [
        "# Identity matrix\n",
        "create an identity matrix using eye"
      ],
      "metadata": {
        "id": "-yVlhCulUJlv"
      }
    },
    {
      "cell_type": "code",
      "source": [
        "x1.dot(np.linalg.inv(x1))\n",
        "print(\"Identity matrix\")\n",
        "np.eye(3)"
      ],
      "metadata": {
        "colab": {
          "base_uri": "https://localhost:8080/"
        },
        "id": "qwM384tgUMYx",
        "outputId": "aa2ffd98-b2a9-4d62-d791-35ba6f645a57"
      },
      "execution_count": 37,
      "outputs": [
        {
          "output_type": "stream",
          "name": "stdout",
          "text": [
            "Identity matrix\n"
          ]
        },
        {
          "output_type": "execute_result",
          "data": {
            "text/plain": [
              "array([[1., 0., 0.],\n",
              "       [0., 1., 0.],\n",
              "       [0., 0., 1.]])"
            ]
          },
          "metadata": {},
          "execution_count": 37
        }
      ]
    },
    {
      "cell_type": "markdown",
      "source": [
        "# Eigenvalues and eigenvectors\n",
        "\n",
        "eig function finds the eigenvalues and eigenvectors of a square matrix:"
      ],
      "metadata": {
        "id": "M7qcQDxTUYxv"
      }
    },
    {
      "cell_type": "code",
      "source": [
        "import numpy as np\n",
        "eigenvalues, eigenvectors = np.linalg.eig(x1)\n",
        "print(\"eigenvalues\")\n",
        "eigenvalues\n"
      ],
      "metadata": {
        "colab": {
          "base_uri": "https://localhost:8080/"
        },
        "id": "lJXcBlySUaz5",
        "outputId": "a57fa0c8-1874-44de-d0fe-f59a22af83f2"
      },
      "execution_count": 39,
      "outputs": [
        {
          "output_type": "stream",
          "name": "stdout",
          "text": [
            "eigenvalues\n"
          ]
        },
        {
          "output_type": "execute_result",
          "data": {
            "text/plain": [
              "array([-2.27973942+0.j        ,  1.56798566+2.87860383j,\n",
              "        1.56798566-2.87860383j,  5.14376809+0.j        ])"
            ]
          },
          "metadata": {},
          "execution_count": 39
        }
      ]
    },
    {
      "cell_type": "code",
      "source": [
        "print(\"eigenvectors\")\n",
        "eigenvectors"
      ],
      "metadata": {
        "colab": {
          "base_uri": "https://localhost:8080/"
        },
        "id": "7qGzomszUjOg",
        "outputId": "edbd823a-b7f7-4b45-8f94-9930e912af7a"
      },
      "execution_count": 41,
      "outputs": [
        {
          "output_type": "stream",
          "name": "stdout",
          "text": [
            "eigenvectors\n"
          ]
        },
        {
          "output_type": "execute_result",
          "data": {
            "text/plain": [
              "array([[-0.75547339+0.j        ,  0.16908488+0.27097668j,\n",
              "         0.16908488-0.27097668j,  0.55029437+0.j        ],\n",
              "       [ 0.58405855+0.j        , -0.03685258+0.11009381j,\n",
              "        -0.03685258-0.11009381j,  0.12534953+0.j        ],\n",
              "       [-0.00083061+0.j        , -0.80120316+0.j        ,\n",
              "        -0.80120316-0.j        , -0.49101521+0.j        ],\n",
              "       [ 0.2968752 +0.j        ,  0.49245776+0.00787623j,\n",
              "         0.49245776-0.00787623j,  0.66360203+0.j        ]])"
            ]
          },
          "metadata": {},
          "execution_count": 41
        }
      ]
    },
    {
      "cell_type": "markdown",
      "source": [
        "# Solving Linear Equations\n",
        "The solve function solves a system of linear scalar equations, such as:\n",
        "\n",
        "4x+2y=8\n",
        "\n",
        "3x+8y=−9"
      ],
      "metadata": {
        "id": "-8ezZCywUssC"
      }
    },
    {
      "cell_type": "code",
      "source": [
        "import numpy as np\n",
        "x = np.array([[4, 2], [3, 8]])\n",
        "y = np.array([8, -9])\n",
        "values = np.linalg.solve(x, y)\n",
        "values"
      ],
      "metadata": {
        "colab": {
          "base_uri": "https://localhost:8080/"
        },
        "id": "LKtIVMUSUlQV",
        "outputId": "f4250769-6f09-4178-8958-fadcb6ae2997"
      },
      "execution_count": 42,
      "outputs": [
        {
          "output_type": "execute_result",
          "data": {
            "text/plain": [
              "array([ 3.15384615, -2.30769231])"
            ]
          },
          "metadata": {},
          "execution_count": 42
        }
      ]
    },
    {
      "cell_type": "markdown",
      "source": [
        "# Mathematical and statistical functions\n",
        "If there is a large amount of data,we can use mathmatical and statistical functions like (the sum, product, median, minimum and maximum, quantiles, etc.) to find typical values."
      ],
      "metadata": {
        "id": "nbtCSXX0UwED"
      }
    },
    {
      "cell_type": "code",
      "source": [
        "import numpy as np\n",
        "x1 = np.array([[1, 3.1, 2], [12, 12, 11]])\n",
        "for func in (x1.min, x1.max, x1.sum, x1.prod, x1.std, x1.var,x1.mean):\n",
        "    print(func.__name__, \"=\", func())"
      ],
      "metadata": {
        "colab": {
          "base_uri": "https://localhost:8080/"
        },
        "id": "jdRf1fNcUyzc",
        "outputId": "9e1a9b81-c112-4715-8bf6-3b1e655e1c41"
      },
      "execution_count": 43,
      "outputs": [
        {
          "output_type": "stream",
          "name": "stdout",
          "text": [
            "min = 1.0\n",
            "max = 12.0\n",
            "sum = 41.1\n",
            "prod = 9820.800000000001\n",
            "std = 4.866124399012695\n",
            "var = 23.679166666666664\n",
            "mean = 6.8500000000000005\n"
          ]
        }
      ]
    },
    {
      "cell_type": "markdown",
      "source": [
        "#Universal Function\n",
        "It provides fast elementwise functions called universal functions, or ufunc."
      ],
      "metadata": {
        "id": "GqIygiF9U2WC"
      }
    },
    {
      "cell_type": "code",
      "source": [
        "import numpy as np\n",
        "x1 = np.array([[1, 3.1, 2], [12, 12, 11]])\n",
        "for func in (np.abs, np.sqrt, np.exp, np.log, np.sign, np.ceil, np.modf, np.isnan, np.cos):\n",
        "    print(\"\\n\", func.__name__)\n",
        "    print(func(x1))"
      ],
      "metadata": {
        "colab": {
          "base_uri": "https://localhost:8080/"
        },
        "id": "4X2qj2yLU5YA",
        "outputId": "903a5d40-4f54-4438-a58e-96562c86dd50"
      },
      "execution_count": 44,
      "outputs": [
        {
          "output_type": "stream",
          "name": "stdout",
          "text": [
            "\n",
            " absolute\n",
            "[[ 1.   3.1  2. ]\n",
            " [12.  12.  11. ]]\n",
            "\n",
            " sqrt\n",
            "[[1.         1.76068169 1.41421356]\n",
            " [3.46410162 3.46410162 3.31662479]]\n",
            "\n",
            " exp\n",
            "[[2.71828183e+00 2.21979513e+01 7.38905610e+00]\n",
            " [1.62754791e+05 1.62754791e+05 5.98741417e+04]]\n",
            "\n",
            " log\n",
            "[[0.         1.13140211 0.69314718]\n",
            " [2.48490665 2.48490665 2.39789527]]\n",
            "\n",
            " sign\n",
            "[[1. 1. 1.]\n",
            " [1. 1. 1.]]\n",
            "\n",
            " ceil\n",
            "[[ 1.  4.  2.]\n",
            " [12. 12. 11.]]\n",
            "\n",
            " modf\n",
            "(array([[0. , 0.1, 0. ],\n",
            "       [0. , 0. , 0. ]]), array([[ 1.,  3.,  2.],\n",
            "       [12., 12., 11.]]))\n",
            "\n",
            " isnan\n",
            "[[False False False]\n",
            " [False False False]]\n",
            "\n",
            " cos\n",
            "[[ 0.54030231 -0.99913515 -0.41614684]\n",
            " [ 0.84385396  0.84385396  0.0044257 ]]\n"
          ]
        }
      ]
    },
    {
      "cell_type": "markdown",
      "source": [
        "# Stacking and Concatenating arrays\n",
        "\n",
        "Using function repeat, tile, vstack, hstack, and concatenate we can create larger vectors and matrices.\n",
        "\n",
        "tile and repeat"
      ],
      "metadata": {
        "id": "V_ZoD2UTVYI9"
      }
    },
    {
      "cell_type": "code",
      "source": [
        "import numpy as np\n",
        "ar1 = np.array([[1, 2, 4], [3, 4,1 ]])\n",
        "np. repeat(ar1,3) #repeating each element 3 times"
      ],
      "metadata": {
        "colab": {
          "base_uri": "https://localhost:8080/"
        },
        "id": "06gzJTo-VbPJ",
        "outputId": "b882bab5-c01f-41a4-ddc4-c5810e04137b"
      },
      "execution_count": 48,
      "outputs": [
        {
          "output_type": "execute_result",
          "data": {
            "text/plain": [
              "array([1, 1, 1, 2, 2, 2, 4, 4, 4, 3, 3, 3, 4, 4, 4, 1, 1, 1])"
            ]
          },
          "metadata": {},
          "execution_count": 48
        }
      ]
    },
    {
      "cell_type": "code",
      "source": [
        "# tile the matrix 3 times \n",
        "ar2=np.tile(ar1, 3)\n",
        "print(ar2)"
      ],
      "metadata": {
        "colab": {
          "base_uri": "https://localhost:8080/"
        },
        "id": "Ny9h2rIfVgg0",
        "outputId": "1dba0669-073a-4de4-f8ba-69a0a834c228"
      },
      "execution_count": 49,
      "outputs": [
        {
          "output_type": "stream",
          "name": "stdout",
          "text": [
            "[[1 2 4 1 2 4 1 2 4]\n",
            " [3 4 1 3 4 1 3 4 1]]\n"
          ]
        }
      ]
    },
    {
      "cell_type": "markdown",
      "source": [
        "concatenation"
      ],
      "metadata": {
        "id": "5gF9iRmgVd_X"
      }
    },
    {
      "cell_type": "code",
      "source": [
        "ar2 = np.array([[5, 6, 4]])\n",
        "np.concatenate((ar1, ar2), axis=0) #adding into row axis"
      ],
      "metadata": {
        "colab": {
          "base_uri": "https://localhost:8080/"
        },
        "id": "jUJB0sj3VlDb",
        "outputId": "e708f2e4-4035-4ef0-eb56-722d3704f394"
      },
      "execution_count": 50,
      "outputs": [
        {
          "output_type": "execute_result",
          "data": {
            "text/plain": [
              "array([[1, 2, 4],\n",
              "       [3, 4, 1],\n",
              "       [5, 6, 4]])"
            ]
          },
          "metadata": {},
          "execution_count": 50
        }
      ]
    },
    {
      "cell_type": "markdown",
      "source": [
        "hstack and vstack\n",
        "\n",
        "hstack and 'vstack' can appened data horizontally and horizontally respectively"
      ],
      "metadata": {
        "id": "Nv9ISJNpVpRd"
      }
    },
    {
      "cell_type": "code",
      "source": [
        "np.vstack((ar1,ar2))"
      ],
      "metadata": {
        "colab": {
          "base_uri": "https://localhost:8080/"
        },
        "id": "1RqEhHTQVqfG",
        "outputId": "57ba7f3d-7303-46cc-8fb3-0e831a018aa5"
      },
      "execution_count": 51,
      "outputs": [
        {
          "output_type": "execute_result",
          "data": {
            "text/plain": [
              "array([[1, 2, 4],\n",
              "       [3, 4, 1],\n",
              "       [5, 6, 4]])"
            ]
          },
          "metadata": {},
          "execution_count": 51
        }
      ]
    },
    {
      "cell_type": "code",
      "source": [
        "ar1= np.arange(0,4)\n",
        "ar2 = np.arange(4,8)\n",
        "np.vstack((ar1,ar2))"
      ],
      "metadata": {
        "colab": {
          "base_uri": "https://localhost:8080/"
        },
        "id": "1ApxqAMvVsqL",
        "outputId": "80dd190e-0e31-41aa-8ec4-dfbbddb3b5c3"
      },
      "execution_count": 52,
      "outputs": [
        {
          "output_type": "execute_result",
          "data": {
            "text/plain": [
              "array([[0, 1, 2, 3],\n",
              "       [4, 5, 6, 7]])"
            ]
          },
          "metadata": {},
          "execution_count": 52
        }
      ]
    },
    {
      "cell_type": "markdown",
      "source": [
        "# Image Analysis Using numpy\n",
        "We have implemented some of numpy functions in array or matrix ! but what about Image. Lets try it!"
      ],
      "metadata": {
        "id": "_oJJAaC-U8Q6"
      }
    },
    {
      "cell_type": "code",
      "source": [
        "# image creation\n",
        "import numpy as np\n",
        "from PIL import Image\n",
        "import matplotlib.pyplot as plt\n",
        "\n",
        "#Create a 500 by 400 pixel array\n",
        "#Using clolor slicing\n",
        "array = np.zeros([500, 400, 3], dtype=np.uint8)\n",
        "array[:,:100] = [500, 250, 0]\n",
        "array[:,100:] = [0, 0, 255]   \n",
        "\n",
        "img = Image.fromarray(array)\n",
        "plt.imshow(img)"
      ],
      "metadata": {
        "colab": {
          "base_uri": "https://localhost:8080/",
          "height": 286
        },
        "id": "5ZZDHjDEVBOs",
        "outputId": "460abc7f-eed1-4b1a-d5db-12c91cbcaba3"
      },
      "execution_count": 45,
      "outputs": [
        {
          "output_type": "execute_result",
          "data": {
            "text/plain": [
              "<matplotlib.image.AxesImage at 0x7f829485f090>"
            ]
          },
          "metadata": {},
          "execution_count": 45
        },
        {
          "output_type": "display_data",
          "data": {
            "text/plain": [
              "<Figure size 432x288 with 1 Axes>"
            ],
            "image/png": "[encoded data removed]"
          },
          "metadata": {
            "needs_background": "light"
          }
        }
      ]
    },
    {
      "cell_type": "code",
      "source": [
        "np.shape(img)"
      ],
      "metadata": {
        "colab": {
          "base_uri": "https://localhost:8080/"
        },
        "id": "fyQJuOJkVISw",
        "outputId": "b40d4bfe-0039-47d6-e90b-499fbe4a808a"
      },
      "execution_count": 46,
      "outputs": [
        {
          "output_type": "execute_result",
          "data": {
            "text/plain": [
              "(500, 400, 3)"
            ]
          },
          "metadata": {},
          "execution_count": 46
        }
      ]
    },
    {
      "cell_type": "markdown",
      "source": [
        "Image Geometric Transformation\n",
        "\n",
        "we can use rotate or filp for this transformation!"
      ],
      "metadata": {
        "id": "wInXVY_TVNAt"
      }
    },
    {
      "cell_type": "code",
      "source": [
        "plt.imshow(np.flip(img, axis=1))"
      ],
      "metadata": {
        "colab": {
          "base_uri": "https://localhost:8080/",
          "height": 286
        },
        "id": "mTKei6JyVK4T",
        "outputId": "d8aea630-b460-4f84-98dd-d23987f21286"
      },
      "execution_count": 47,
      "outputs": [
        {
          "output_type": "execute_result",
          "data": {
            "text/plain": [
              "<matplotlib.image.AxesImage at 0x7f8294282950>"
            ]
          },
          "metadata": {},
          "execution_count": 47
        },
        {
          "output_type": "display_data",
          "data": {
            "text/plain": [
              "<Figure size 432x288 with 1 Axes>"
            ],
            "image/png": "[encoded data removed]"
          },
          "metadata": {
            "needs_background": "light"
          }
        }
      ]
    }
  ]
}